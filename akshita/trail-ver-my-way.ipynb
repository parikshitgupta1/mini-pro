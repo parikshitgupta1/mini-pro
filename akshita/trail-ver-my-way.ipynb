{
 "cells": [
  {
   "cell_type": "code",
   "execution_count": 15,
   "metadata": {},
   "outputs": [],
   "source": [
    "import warnings\n",
    "import numpy as np\n",
    "import pandas as pd\n",
    "import seaborn as sns\n",
    "import matplotlib.pyplot as plt\n",
    "from sklearn import preprocessing\n",
    "from keras.models import Sequential\n",
    "from sklearn.metrics import confusion_matrix\n",
    "from sklearn.impute import SimpleImputer \n",
    "from keras.layers import Dense,Activation,Dropout\n",
    "from sklearn.model_selection import train_test_split"
   ]
  },
  {
   "cell_type": "code",
   "execution_count": 16,
   "metadata": {},
   "outputs": [
    {
     "data": {
      "text/html": [
       "<div>\n",
       "<style scoped>\n",
       "    .dataframe tbody tr th:only-of-type {\n",
       "        vertical-align: middle;\n",
       "    }\n",
       "\n",
       "    .dataframe tbody tr th {\n",
       "        vertical-align: top;\n",
       "    }\n",
       "\n",
       "    .dataframe thead th {\n",
       "        text-align: right;\n",
       "    }\n",
       "</style>\n",
       "<table border=\"1\" class=\"dataframe\">\n",
       "  <thead>\n",
       "    <tr style=\"text-align: right;\">\n",
       "      <th></th>\n",
       "      <th>id</th>\n",
       "      <th>clumpthickness</th>\n",
       "      <th>uniformcellsize</th>\n",
       "      <th>uniformcellshape</th>\n",
       "      <th>margadhesion</th>\n",
       "      <th>epithelial</th>\n",
       "      <th>barenuclei</th>\n",
       "      <th>blandchromatin</th>\n",
       "      <th>normalnucleoli</th>\n",
       "      <th>mitoses</th>\n",
       "      <th>benormal</th>\n",
       "    </tr>\n",
       "  </thead>\n",
       "  <tbody>\n",
       "    <tr>\n",
       "      <th>0</th>\n",
       "      <td>1000025</td>\n",
       "      <td>5</td>\n",
       "      <td>1</td>\n",
       "      <td>1</td>\n",
       "      <td>1</td>\n",
       "      <td>2</td>\n",
       "      <td>1</td>\n",
       "      <td>3</td>\n",
       "      <td>1</td>\n",
       "      <td>1</td>\n",
       "      <td>2</td>\n",
       "    </tr>\n",
       "    <tr>\n",
       "      <th>1</th>\n",
       "      <td>1002945</td>\n",
       "      <td>5</td>\n",
       "      <td>4</td>\n",
       "      <td>4</td>\n",
       "      <td>5</td>\n",
       "      <td>7</td>\n",
       "      <td>10</td>\n",
       "      <td>3</td>\n",
       "      <td>2</td>\n",
       "      <td>1</td>\n",
       "      <td>2</td>\n",
       "    </tr>\n",
       "    <tr>\n",
       "      <th>2</th>\n",
       "      <td>1015425</td>\n",
       "      <td>3</td>\n",
       "      <td>1</td>\n",
       "      <td>1</td>\n",
       "      <td>1</td>\n",
       "      <td>2</td>\n",
       "      <td>2</td>\n",
       "      <td>3</td>\n",
       "      <td>1</td>\n",
       "      <td>1</td>\n",
       "      <td>2</td>\n",
       "    </tr>\n",
       "    <tr>\n",
       "      <th>3</th>\n",
       "      <td>1016277</td>\n",
       "      <td>6</td>\n",
       "      <td>8</td>\n",
       "      <td>8</td>\n",
       "      <td>1</td>\n",
       "      <td>3</td>\n",
       "      <td>4</td>\n",
       "      <td>3</td>\n",
       "      <td>7</td>\n",
       "      <td>1</td>\n",
       "      <td>2</td>\n",
       "    </tr>\n",
       "    <tr>\n",
       "      <th>4</th>\n",
       "      <td>1017023</td>\n",
       "      <td>4</td>\n",
       "      <td>1</td>\n",
       "      <td>1</td>\n",
       "      <td>3</td>\n",
       "      <td>2</td>\n",
       "      <td>1</td>\n",
       "      <td>3</td>\n",
       "      <td>1</td>\n",
       "      <td>1</td>\n",
       "      <td>2</td>\n",
       "    </tr>\n",
       "  </tbody>\n",
       "</table>\n",
       "</div>"
      ],
      "text/plain": [
       "        id  clumpthickness  uniformcellsize  uniformcellshape  margadhesion  \\\n",
       "0  1000025               5                1                 1             1   \n",
       "1  1002945               5                4                 4             5   \n",
       "2  1015425               3                1                 1             1   \n",
       "3  1016277               6                8                 8             1   \n",
       "4  1017023               4                1                 1             3   \n",
       "\n",
       "   epithelial  barenuclei  blandchromatin  normalnucleoli  mitoses  benormal  \n",
       "0           2           1               3               1        1         2  \n",
       "1           7          10               3               2        1         2  \n",
       "2           2           2               3               1        1         2  \n",
       "3           3           4               3               7        1         2  \n",
       "4           2           1               3               1        1         2  "
      ]
     },
     "execution_count": 16,
     "metadata": {},
     "output_type": "execute_result"
    }
   ],
   "source": [
    "warnings.filterwarnings(\"ignore\")\n",
    "# import data \n",
    "data = pd.read_csv('./breast_cancer_data1.csv',delimiter=',')\n",
    "data.head()"
   ]
  },
  {
   "cell_type": "code",
   "execution_count": 17,
   "metadata": {},
   "outputs": [],
   "source": [
    "data.drop(['id'], inplace=True, axis=1)\n",
    "data.replace('?', -99999, inplace=True)"
   ]
  },
  {
   "cell_type": "code",
   "execution_count": 18,
   "metadata": {},
   "outputs": [
    {
     "data": {
      "text/plain": [
       "<matplotlib.legend.Legend at 0x26d9e7b57c8>"
      ]
     },
     "execution_count": 18,
     "metadata": {},
     "output_type": "execute_result"
    },
    {
     "data": {
      "image/png": "[encoded data removed]",
      "text/plain": [
       "<Figure size 432x288 with 1 Axes>"
      ]
     },
     "metadata": {
      "needs_background": "light"
     },
     "output_type": "display_data"
    }
   ],
   "source": [
    "count = data.benormal.value_counts()\n",
    "count.plot(kind='bar')\n",
    "plt.legend()"
   ]
  },
  {
   "cell_type": "code",
   "execution_count": 19,
   "metadata": {},
   "outputs": [],
   "source": [
    "data['benormal'] = data['benormal'].map(lambda x: 1 if x == 4 else 0)"
   ]
  },
  {
   "cell_type": "code",
   "execution_count": 20,
   "metadata": {},
   "outputs": [],
   "source": [
    "# First 9 column is input parameters. \n",
    "X = data.iloc[:,0:9]\n",
    "# Last Column is output data. So (0 is benign, 1 is malignant) \n",
    "y = data.iloc[:,-1]"
   ]
  },
  {
   "cell_type": "code",
   "execution_count": 21,
   "metadata": {},
   "outputs": [],
   "source": [
    "scaler = preprocessing.MinMaxScaler()\n",
    "X = scaler.fit_transform(X)"
   ]
  },
  {
   "cell_type": "code",
   "execution_count": 22,
   "metadata": {},
   "outputs": [
    {
     "name": "stdout",
     "output_type": "stream",
     "text": [
      "(559, 9) (559,)\n",
      "(140, 9) (140,)\n",
      "[[0.44444444 0.         0.11111111 ... 0.11111111 0.         0.        ]\n",
      " [0.22222222 0.44444444 0.66666667 ... 0.66666667 1.         0.66666667]\n",
      " [0.22222222 0.         0.         ... 0.         0.         0.        ]\n",
      " ...\n",
      " [0.55555556 0.         0.         ... 0.         0.         0.        ]\n",
      " [0.22222222 0.         0.         ... 0.11111111 0.11111111 0.        ]\n",
      " [0.         0.         0.         ... 0.11111111 0.         0.        ]]\n"
     ]
    }
   ],
   "source": [
    "X_train,X_test,y_train,y_test = train_test_split(X, y, test_size=0.2)\n",
    "\n",
    "print(X_train.shape, y_train.shape)\n",
    "print(X_test.shape, y_test.shape)\n",
    "print(X_train)"
   ]
  },
  {
   "cell_type": "code",
   "execution_count": 23,
   "metadata": {},
   "outputs": [],
   "source": [
    "# Create Model with KERAS library\n",
    "model = Sequential()\n",
    "model.add(Dense(32, activation='relu', input_shape=(9,))) # FC Fully Connected Layer, input_dimension is dataset input parameters\n",
    "model.add(Dropout(0.05))\n",
    "model.add(Dense(64, activation='relu'))\n",
    "model.add(Dropout(0.10))\n",
    "model.add(Dense(64, activation='relu'))\n",
    "model.add(Dropout(0.20))\n",
    "model.add(Dense(1, activation='sigmoid'))"
   ]
  },
  {
   "cell_type": "code",
   "execution_count": 24,
   "metadata": {},
   "outputs": [],
   "source": [
    "model.compile(\n",
    "    optimizer=\"adam\",\n",
    "    loss=\"binary_crossentropy\",\n",
    "    metrics=[\"accuracy\"])"
   ]
  },
  {
   "cell_type": "code",
   "execution_count": 25,
   "metadata": {},
   "outputs": [
    {
     "name": "stdout",
     "output_type": "stream",
     "text": [
      "Epoch 1/25\n",
      "70/70 [==============================] - 2s 9ms/step - loss: 0.6136 - accuracy: 0.8528 - val_loss: 0.2208 - val_accuracy: 0.9500\n",
      "Epoch 2/25\n",
      "70/70 [==============================] - 0s 3ms/step - loss: 0.1669 - accuracy: 0.9624 - val_loss: 0.1175 - val_accuracy: 0.9714\n",
      "Epoch 3/25\n",
      "70/70 [==============================] - 0s 2ms/step - loss: 0.0762 - accuracy: 0.9821 - val_loss: 0.1101 - val_accuracy: 0.9714\n",
      "Epoch 4/25\n",
      "70/70 [==============================] - 0s 2ms/step - loss: 0.0926 - accuracy: 0.9644 - val_loss: 0.1112 - val_accuracy: 0.9714\n",
      "Epoch 5/25\n",
      "70/70 [==============================] - 0s 2ms/step - loss: 0.1210 - accuracy: 0.9533 - val_loss: 0.1070 - val_accuracy: 0.9714\n",
      "Epoch 6/25\n",
      "70/70 [==============================] - 0s 2ms/step - loss: 0.0843 - accuracy: 0.9703 - val_loss: 0.1092 - val_accuracy: 0.9714\n",
      "Epoch 7/25\n",
      "70/70 [==============================] - 0s 2ms/step - loss: 0.0693 - accuracy: 0.9668 - val_loss: 0.1130 - val_accuracy: 0.9714\n",
      "Epoch 8/25\n",
      "70/70 [==============================] - 0s 2ms/step - loss: 0.1010 - accuracy: 0.9634 - val_loss: 0.1121 - val_accuracy: 0.9714\n",
      "Epoch 9/25\n",
      "70/70 [==============================] - 0s 3ms/step - loss: 0.0542 - accuracy: 0.9749 - val_loss: 0.1216 - val_accuracy: 0.9643\n",
      "Epoch 10/25\n",
      "70/70 [==============================] - 0s 3ms/step - loss: 0.0627 - accuracy: 0.9798 - val_loss: 0.1271 - val_accuracy: 0.9643\n",
      "Epoch 11/25\n",
      "70/70 [==============================] - 0s 3ms/step - loss: 0.0663 - accuracy: 0.9789 - val_loss: 0.1176 - val_accuracy: 0.9643\n",
      "Epoch 12/25\n",
      "70/70 [==============================] - 0s 2ms/step - loss: 0.0872 - accuracy: 0.9725 - val_loss: 0.1195 - val_accuracy: 0.9643\n",
      "Epoch 13/25\n",
      "70/70 [==============================] - 0s 2ms/step - loss: 0.0702 - accuracy: 0.9766 - val_loss: 0.1201 - val_accuracy: 0.9643\n",
      "Epoch 14/25\n",
      "70/70 [==============================] - 0s 3ms/step - loss: 0.0635 - accuracy: 0.9797 - val_loss: 0.1451 - val_accuracy: 0.9643\n",
      "Epoch 15/25\n",
      "70/70 [==============================] - 0s 2ms/step - loss: 0.0601 - accuracy: 0.9793 - val_loss: 0.1281 - val_accuracy: 0.9643\n",
      "Epoch 16/25\n",
      "70/70 [==============================] - 0s 2ms/step - loss: 0.0654 - accuracy: 0.9809 - val_loss: 0.1351 - val_accuracy: 0.9643\n",
      "Epoch 17/25\n",
      "70/70 [==============================] - 0s 2ms/step - loss: 0.0511 - accuracy: 0.9903 - val_loss: 0.1506 - val_accuracy: 0.9643\n",
      "Epoch 18/25\n",
      "70/70 [==============================] - 0s 2ms/step - loss: 0.0588 - accuracy: 0.9779 - val_loss: 0.1297 - val_accuracy: 0.9643\n",
      "Epoch 19/25\n",
      "70/70 [==============================] - 0s 2ms/step - loss: 0.0722 - accuracy: 0.9716 - val_loss: 0.1390 - val_accuracy: 0.9643\n",
      "Epoch 20/25\n",
      "70/70 [==============================] - 0s 2ms/step - loss: 0.0404 - accuracy: 0.9888 - val_loss: 0.1468 - val_accuracy: 0.9643\n",
      "Epoch 21/25\n",
      "70/70 [==============================] - 0s 3ms/step - loss: 0.0683 - accuracy: 0.9703 - val_loss: 0.1449 - val_accuracy: 0.9643\n",
      "Epoch 22/25\n",
      "70/70 [==============================] - 0s 2ms/step - loss: 0.0412 - accuracy: 0.9884 - val_loss: 0.1520 - val_accuracy: 0.9643\n",
      "Epoch 23/25\n",
      "70/70 [==============================] - 0s 2ms/step - loss: 0.0464 - accuracy: 0.9855 - val_loss: 0.1642 - val_accuracy: 0.9643\n",
      "Epoch 24/25\n",
      "70/70 [==============================] - 0s 2ms/step - loss: 0.0538 - accuracy: 0.9836 - val_loss: 0.1463 - val_accuracy: 0.9643\n",
      "Epoch 25/25\n",
      "70/70 [==============================] - 0s 3ms/step - loss: 0.0626 - accuracy: 0.9689 - val_loss: 0.1600 - val_accuracy: 0.9643\n"
     ]
    }
   ],
   "source": [
    "history =  model.fit(X_train,y_train, \n",
    "                     epochs=25,\n",
    "                     batch_size=8,\n",
    "                     validation_data=(X_test, y_test))"
   ]
  },
  {
   "cell_type": "code",
   "execution_count": 26,
   "metadata": {},
   "outputs": [],
   "source": [
    "model.save_weights(\"example.h5\")"
   ]
  },
  {
   "cell_type": "code",
   "execution_count": 27,
   "metadata": {},
   "outputs": [
    {
     "data": {
      "image/png": "[encoded data removed]",
      "text/plain": [
       "<Figure size 432x288 with 1 Axes>"
      ]
     },
     "metadata": {
      "needs_background": "light"
     },
     "output_type": "display_data"
    },
    {
     "data": {
      "image/png": "[encoded data removed]",
      "text/plain": [
       "<Figure size 432x288 with 1 Axes>"
      ]
     },
     "metadata": {
      "needs_background": "light"
     },
     "output_type": "display_data"
    }
   ],
   "source": [
    "plt.plot(history.history[\"loss\"],label=\"train_loss\")\n",
    "plt.plot(history.history[\"val_loss\"],label=\"val_loss\")\n",
    "plt.legend()\n",
    "plt.show()\n",
    "\n",
    "plt.figure()\n",
    "plt.plot(history.history[\"accuracy\"],label=\"train_acc\")\n",
    "plt.plot(history.history[\"val_accuracy\"],label=\"val_acc\")\n",
    "plt.legend()\n",
    "plt.show()"
   ]
  },
  {
   "cell_type": "code",
   "execution_count": 28,
   "metadata": {},
   "outputs": [],
   "source": [
    "Y_pred = model.predict(X_test)\n",
    "Y_pred = [ 1 if y>=0.5 else 0 for y in Y_pred]"
   ]
  },
  {
   "cell_type": "code",
   "execution_count": 29,
   "metadata": {},
   "outputs": [
    {
     "name": "stdout",
     "output_type": "stream",
     "text": [
      "[[87  3]\n",
      " [ 2 48]]\n"
     ]
    }
   ],
   "source": [
    "from sklearn.metrics import confusion_matrix\n",
    "cm = confusion_matrix(y_test, Y_pred)\n",
    "print(cm)"
   ]
  },
  {
   "cell_type": "code",
   "execution_count": 30,
   "metadata": {},
   "outputs": [
    {
     "data": {
      "text/plain": [
       "<matplotlib.axes._subplots.AxesSubplot at 0x26da0dfd908>"
      ]
     },
     "execution_count": 30,
     "metadata": {},
     "output_type": "execute_result"
    },
    {
     "data": {
      "image/png": "[encoded data removed]",
      "text/plain": [
       "<Figure size 432x288 with 2 Axes>"
      ]
     },
     "metadata": {
      "needs_background": "light"
     },
     "output_type": "display_data"
    }
   ],
   "source": [
    "sns.heatmap(cm,annot=True)"
   ]
  },
  {
   "cell_type": "code",
   "execution_count": 31,
   "metadata": {},
   "outputs": [
    {
     "name": "stdout",
     "output_type": "stream",
     "text": [
      "Confusion Matrix :\n",
      "[[87  3]\n",
      " [ 2 48]]\n",
      "Accuracy Score : 0.9642857142857143\n",
      "Report : \n",
      "              precision    recall  f1-score   support\n",
      "\n",
      "           0       0.98      0.97      0.97        90\n",
      "           1       0.94      0.96      0.95        50\n",
      "\n",
      "    accuracy                           0.96       140\n",
      "   macro avg       0.96      0.96      0.96       140\n",
      "weighted avg       0.96      0.96      0.96       140\n",
      "\n"
     ]
    }
   ],
   "source": [
    "from sklearn.metrics import accuracy_score \n",
    "from sklearn.metrics import classification_report \n",
    "print('Confusion Matrix :')\n",
    "print(cm) \n",
    "print('Accuracy Score :',accuracy_score(y_test, Y_pred))\n",
    "print('Report : ')\n",
    "print(classification_report(y_test, Y_pred))"
   ]
  },
  {
   "cell_type": "code",
   "execution_count": null,
   "metadata": {},
   "outputs": [],
   "source": []
  }
 ],
 "metadata": {
  "kernelspec": {
   "display_name": "Python 3",
   "language": "python",
   "name": "python3"
  },
  "language_info": {
   "codemirror_mode": {
    "name": "ipython",
    "version": 3
   },
   "file_extension": ".py",
   "mimetype": "text/x-python",
   "name": "python",
   "nbconvert_exporter": "python",
   "pygments_lexer": "ipython3",
   "version": "3.7.6"
  }
 },
 "nbformat": 4,
 "nbformat_minor": 4
}
