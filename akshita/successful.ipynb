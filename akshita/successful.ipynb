{
 "cells": [
  {
   "cell_type": "code",
   "execution_count": 1,
   "metadata": {},
   "outputs": [],
   "source": [
    "import warnings\n",
    "from tensorflow import keras\n",
    "from sklearn.model_selection import train_test_split\n",
    "from tensorflow.keras.models import Sequential\n",
    "from tensorflow.keras.layers import Dense\n",
    "import pandas as pd\n",
    "from sklearn.metrics import classification_report"
   ]
  },
  {
   "cell_type": "code",
   "execution_count": 2,
   "metadata": {},
   "outputs": [],
   "source": [
    "df = pd.read_csv('./breast_cancer_data3_cleaned.csv', na_values = '?')"
   ]
  },
  {
   "cell_type": "code",
   "execution_count": 3,
   "metadata": {},
   "outputs": [
    {
     "data": {
      "text/html": [
       "<div>\n",
       "<style scoped>\n",
       "    .dataframe tbody tr th:only-of-type {\n",
       "        vertical-align: middle;\n",
       "    }\n",
       "\n",
       "    .dataframe tbody tr th {\n",
       "        vertical-align: top;\n",
       "    }\n",
       "\n",
       "    .dataframe thead th {\n",
       "        text-align: right;\n",
       "    }\n",
       "</style>\n",
       "<table border=\"1\" class=\"dataframe\">\n",
       "  <thead>\n",
       "    <tr style=\"text-align: right;\">\n",
       "      <th></th>\n",
       "      <th>Clump Thickness</th>\n",
       "      <th>Uniformity of Cell Size</th>\n",
       "      <th>Uniformity of Cell Shape</th>\n",
       "      <th>Marginal Adhesion</th>\n",
       "      <th>Single Epithelial Cell Size</th>\n",
       "      <th>Bare Nuclei</th>\n",
       "      <th>Bland Chromatin</th>\n",
       "      <th>Normal Nucleoli</th>\n",
       "      <th>Mitoses</th>\n",
       "      <th>Class</th>\n",
       "    </tr>\n",
       "  </thead>\n",
       "  <tbody>\n",
       "    <tr>\n",
       "      <th>0</th>\n",
       "      <td>5</td>\n",
       "      <td>1</td>\n",
       "      <td>1</td>\n",
       "      <td>1</td>\n",
       "      <td>2</td>\n",
       "      <td>1</td>\n",
       "      <td>3</td>\n",
       "      <td>1</td>\n",
       "      <td>1</td>\n",
       "      <td>2</td>\n",
       "    </tr>\n",
       "    <tr>\n",
       "      <th>1</th>\n",
       "      <td>5</td>\n",
       "      <td>4</td>\n",
       "      <td>4</td>\n",
       "      <td>5</td>\n",
       "      <td>7</td>\n",
       "      <td>10</td>\n",
       "      <td>3</td>\n",
       "      <td>2</td>\n",
       "      <td>1</td>\n",
       "      <td>2</td>\n",
       "    </tr>\n",
       "    <tr>\n",
       "      <th>2</th>\n",
       "      <td>3</td>\n",
       "      <td>1</td>\n",
       "      <td>1</td>\n",
       "      <td>1</td>\n",
       "      <td>2</td>\n",
       "      <td>2</td>\n",
       "      <td>3</td>\n",
       "      <td>1</td>\n",
       "      <td>1</td>\n",
       "      <td>2</td>\n",
       "    </tr>\n",
       "    <tr>\n",
       "      <th>3</th>\n",
       "      <td>6</td>\n",
       "      <td>8</td>\n",
       "      <td>8</td>\n",
       "      <td>1</td>\n",
       "      <td>3</td>\n",
       "      <td>4</td>\n",
       "      <td>3</td>\n",
       "      <td>7</td>\n",
       "      <td>1</td>\n",
       "      <td>2</td>\n",
       "    </tr>\n",
       "    <tr>\n",
       "      <th>4</th>\n",
       "      <td>4</td>\n",
       "      <td>1</td>\n",
       "      <td>1</td>\n",
       "      <td>3</td>\n",
       "      <td>2</td>\n",
       "      <td>1</td>\n",
       "      <td>3</td>\n",
       "      <td>1</td>\n",
       "      <td>1</td>\n",
       "      <td>2</td>\n",
       "    </tr>\n",
       "    <tr>\n",
       "      <th>...</th>\n",
       "      <td>...</td>\n",
       "      <td>...</td>\n",
       "      <td>...</td>\n",
       "      <td>...</td>\n",
       "      <td>...</td>\n",
       "      <td>...</td>\n",
       "      <td>...</td>\n",
       "      <td>...</td>\n",
       "      <td>...</td>\n",
       "      <td>...</td>\n",
       "    </tr>\n",
       "    <tr>\n",
       "      <th>678</th>\n",
       "      <td>3</td>\n",
       "      <td>1</td>\n",
       "      <td>1</td>\n",
       "      <td>1</td>\n",
       "      <td>3</td>\n",
       "      <td>2</td>\n",
       "      <td>1</td>\n",
       "      <td>1</td>\n",
       "      <td>1</td>\n",
       "      <td>2</td>\n",
       "    </tr>\n",
       "    <tr>\n",
       "      <th>679</th>\n",
       "      <td>2</td>\n",
       "      <td>1</td>\n",
       "      <td>1</td>\n",
       "      <td>1</td>\n",
       "      <td>2</td>\n",
       "      <td>1</td>\n",
       "      <td>1</td>\n",
       "      <td>1</td>\n",
       "      <td>1</td>\n",
       "      <td>2</td>\n",
       "    </tr>\n",
       "    <tr>\n",
       "      <th>680</th>\n",
       "      <td>5</td>\n",
       "      <td>10</td>\n",
       "      <td>10</td>\n",
       "      <td>3</td>\n",
       "      <td>7</td>\n",
       "      <td>3</td>\n",
       "      <td>8</td>\n",
       "      <td>10</td>\n",
       "      <td>2</td>\n",
       "      <td>4</td>\n",
       "    </tr>\n",
       "    <tr>\n",
       "      <th>681</th>\n",
       "      <td>4</td>\n",
       "      <td>8</td>\n",
       "      <td>6</td>\n",
       "      <td>4</td>\n",
       "      <td>3</td>\n",
       "      <td>4</td>\n",
       "      <td>10</td>\n",
       "      <td>6</td>\n",
       "      <td>1</td>\n",
       "      <td>4</td>\n",
       "    </tr>\n",
       "    <tr>\n",
       "      <th>682</th>\n",
       "      <td>4</td>\n",
       "      <td>8</td>\n",
       "      <td>8</td>\n",
       "      <td>5</td>\n",
       "      <td>4</td>\n",
       "      <td>5</td>\n",
       "      <td>10</td>\n",
       "      <td>4</td>\n",
       "      <td>1</td>\n",
       "      <td>4</td>\n",
       "    </tr>\n",
       "  </tbody>\n",
       "</table>\n",
       "<p>683 rows × 10 columns</p>\n",
       "</div>"
      ],
      "text/plain": [
       "     Clump Thickness  Uniformity of Cell Size  Uniformity of Cell Shape  \\\n",
       "0                  5                        1                         1   \n",
       "1                  5                        4                         4   \n",
       "2                  3                        1                         1   \n",
       "3                  6                        8                         8   \n",
       "4                  4                        1                         1   \n",
       "..               ...                      ...                       ...   \n",
       "678                3                        1                         1   \n",
       "679                2                        1                         1   \n",
       "680                5                       10                        10   \n",
       "681                4                        8                         6   \n",
       "682                4                        8                         8   \n",
       "\n",
       "     Marginal Adhesion  Single Epithelial Cell Size  Bare Nuclei  \\\n",
       "0                    1                            2            1   \n",
       "1                    5                            7           10   \n",
       "2                    1                            2            2   \n",
       "3                    1                            3            4   \n",
       "4                    3                            2            1   \n",
       "..                 ...                          ...          ...   \n",
       "678                  1                            3            2   \n",
       "679                  1                            2            1   \n",
       "680                  3                            7            3   \n",
       "681                  4                            3            4   \n",
       "682                  5                            4            5   \n",
       "\n",
       "     Bland Chromatin  Normal Nucleoli  Mitoses  Class  \n",
       "0                  3                1        1      2  \n",
       "1                  3                2        1      2  \n",
       "2                  3                1        1      2  \n",
       "3                  3                7        1      2  \n",
       "4                  3                1        1      2  \n",
       "..               ...              ...      ...    ...  \n",
       "678                1                1        1      2  \n",
       "679                1                1        1      2  \n",
       "680                8               10        2      4  \n",
       "681               10                6        1      4  \n",
       "682               10                4        1      4  \n",
       "\n",
       "[683 rows x 10 columns]"
      ]
     },
     "execution_count": 3,
     "metadata": {},
     "output_type": "execute_result"
    }
   ],
   "source": [
    "df"
   ]
  },
  {
   "cell_type": "code",
   "execution_count": 4,
   "metadata": {},
   "outputs": [],
   "source": [
    "df = df.dropna()\n"
   ]
  },
  {
   "cell_type": "code",
   "execution_count": 5,
   "metadata": {},
   "outputs": [],
   "source": [
    "X = df.drop('Class', axis = 1).values\n",
    "Y = df['Class'].values"
   ]
  },
  {
   "cell_type": "code",
   "execution_count": 6,
   "metadata": {},
   "outputs": [],
   "source": [
    "x_train, x_test, y_train, y_test = train_test_split(X, Y, test_size = 0.2, random_state = 109)\n"
   ]
  },
  {
   "cell_type": "code",
   "execution_count": 7,
   "metadata": {},
   "outputs": [
    {
     "data": {
      "text/plain": [
       "array([[ 5,  1,  3, ...,  2,  3,  1],\n",
       "       [ 3,  1,  2, ...,  2,  1,  1],\n",
       "       [ 4,  2,  4, ...,  2,  1,  1],\n",
       "       ...,\n",
       "       [ 2,  1,  1, ...,  2,  1,  1],\n",
       "       [ 6, 10, 10, ...,  7,  3,  3],\n",
       "       [ 8,  4,  7, ...,  3,  9,  2]], dtype=int64)"
      ]
     },
     "execution_count": 7,
     "metadata": {},
     "output_type": "execute_result"
    }
   ],
   "source": [
    "x_train\n"
   ]
  },
  {
   "cell_type": "code",
   "execution_count": 8,
   "metadata": {},
   "outputs": [
    {
     "name": "stdout",
     "output_type": "stream",
     "text": [
      "Model: \"sequential\"\n",
      "_________________________________________________________________\n",
      "Layer (type)                 Output Shape              Param #   \n",
      "=================================================================\n",
      "dense (Dense)                (None, 8)                 80        \n",
      "_________________________________________________________________\n",
      "dense_1 (Dense)              (None, 4)                 36        \n",
      "_________________________________________________________________\n",
      "dense_2 (Dense)              (None, 1)                 5         \n",
      "=================================================================\n",
      "Total params: 121\n",
      "Trainable params: 121\n",
      "Non-trainable params: 0\n",
      "_________________________________________________________________\n"
     ]
    }
   ],
   "source": [
    "\n",
    "model = Sequential()\n",
    "model.add(Dense(8, input_dim = 9, activation = 'relu'))\n",
    "model.add(Dense(4, activation = 'relu'))\n",
    "model.add(Dense(1, activation = 'sigmoid'))\n",
    "model.summary()"
   ]
  },
  {
   "cell_type": "code",
   "execution_count": 9,
   "metadata": {},
   "outputs": [],
   "source": [
    "model.compile(optimizer = 'adam', loss = 'binary_crossentropy', metrics = ['accuracy', 'AUC'])\n"
   ]
  },
  {
   "cell_type": "code",
   "execution_count": 10,
   "metadata": {},
   "outputs": [
    {
     "name": "stdout",
     "output_type": "stream",
     "text": [
      "Epoch 1/30\n",
      "18/18 [==============================] - 1s 41ms/step - loss: 8.9360 - accuracy: 0.0000e+00 - auc: 0.0000e+00 - val_loss: 4.4931 - val_accuracy: 0.0000e+00 - val_auc: 0.0000e+00\n",
      "Epoch 2/30\n",
      "18/18 [==============================] - 0s 5ms/step - loss: 3.8127 - accuracy: 0.0000e+00 - auc: 0.0000e+00 - val_loss: 1.5950 - val_accuracy: 0.0000e+00 - val_auc: 0.0000e+00\n",
      "Epoch 3/30\n",
      "18/18 [==============================] - 0s 5ms/step - loss: 0.9789 - accuracy: 0.0000e+00 - auc: 0.0000e+00 - val_loss: 0.1538 - val_accuracy: 0.0000e+00 - val_auc: 0.0000e+00\n",
      "Epoch 4/30\n",
      "18/18 [==============================] - 0s 9ms/step - loss: -0.4098 - accuracy: 0.0000e+00 - auc: 0.0000e+00 - val_loss: -0.9899 - val_accuracy: 0.0000e+00 - val_auc: 0.0000e+00\n",
      "Epoch 5/30\n",
      "18/18 [==============================] - 0s 5ms/step - loss: -1.6141 - accuracy: 0.0000e+00 - auc: 0.0000e+00 - val_loss: -2.7435 - val_accuracy: 0.0000e+00 - val_auc: 0.0000e+00\n",
      "Epoch 6/30\n",
      "18/18 [==============================] - 0s 5ms/step - loss: -3.7622 - accuracy: 0.0000e+00 - auc: 0.0000e+00 - val_loss: -5.5677 - val_accuracy: 0.0000e+00 - val_auc: 0.0000e+00\n",
      "Epoch 7/30\n",
      "18/18 [==============================] - 0s 5ms/step - loss: -6.7840 - accuracy: 0.0000e+00 - auc: 0.0000e+00 - val_loss: -9.0513 - val_accuracy: 0.0000e+00 - val_auc: 0.0000e+00\n",
      "Epoch 8/30\n",
      "18/18 [==============================] - 0s 5ms/step - loss: -10.6727 - accuracy: 0.0000e+00 - auc: 0.0000e+00 - val_loss: -13.2662 - val_accuracy: 0.0000e+00 - val_auc: 0.0000e+00\n",
      "Epoch 9/30\n",
      "18/18 [==============================] - 0s 5ms/step - loss: -14.3842 - accuracy: 0.0000e+00 - auc: 0.0000e+00 - val_loss: -18.3662 - val_accuracy: 0.0000e+00 - val_auc: 0.0000e+00\n",
      "Epoch 10/30\n",
      "18/18 [==============================] - 0s 5ms/step - loss: -20.2922 - accuracy: 0.0000e+00 - auc: 0.0000e+00 - val_loss: -24.4435 - val_accuracy: 0.0000e+00 - val_auc: 0.0000e+00\n",
      "Epoch 11/30\n",
      "18/18 [==============================] - 0s 5ms/step - loss: -26.5411 - accuracy: 0.0000e+00 - auc: 0.0000e+00 - val_loss: -31.0645 - val_accuracy: 0.0000e+00 - val_auc: 0.0000e+00\n",
      "Epoch 12/30\n",
      "18/18 [==============================] - 0s 5ms/step - loss: -34.8693 - accuracy: 0.0000e+00 - auc: 0.0000e+00 - val_loss: -38.3977 - val_accuracy: 0.0000e+00 - val_auc: 0.0000e+00\n",
      "Epoch 13/30\n",
      "18/18 [==============================] - 0s 5ms/step - loss: -44.2176 - accuracy: 0.0000e+00 - auc: 0.0000e+00 - val_loss: -47.1860 - val_accuracy: 0.0000e+00 - val_auc: 0.0000e+00\n",
      "Epoch 14/30\n",
      "18/18 [==============================] - 0s 6ms/step - loss: -51.4996 - accuracy: 0.0000e+00 - auc: 0.0000e+00 - val_loss: -56.6944 - val_accuracy: 0.0000e+00 - val_auc: 0.0000e+00\n",
      "Epoch 15/30\n",
      "18/18 [==============================] - 0s 5ms/step - loss: -61.3436 - accuracy: 0.0000e+00 - auc: 0.0000e+00 - val_loss: -67.9597 - val_accuracy: 0.0000e+00 - val_auc: 0.0000e+00\n",
      "Epoch 16/30\n",
      "18/18 [==============================] - 0s 5ms/step - loss: -72.9005 - accuracy: 0.0000e+00 - auc: 0.0000e+00 - val_loss: -81.4040 - val_accuracy: 0.0000e+00 - val_auc: 0.0000e+00\n",
      "Epoch 17/30\n",
      "18/18 [==============================] - 0s 5ms/step - loss: -88.5273 - accuracy: 0.0000e+00 - auc: 0.0000e+00 - val_loss: -96.4853 - val_accuracy: 0.0000e+00 - val_auc: 0.0000e+00\n",
      "Epoch 18/30\n",
      "18/18 [==============================] - 0s 5ms/step - loss: -98.8210 - accuracy: 0.0000e+00 - auc: 0.0000e+00 - val_loss: -114.2078 - val_accuracy: 0.0000e+00 - val_auc: 0.0000e+00\n",
      "Epoch 19/30\n",
      "18/18 [==============================] - 0s 5ms/step - loss: -123.5005 - accuracy: 0.0000e+00 - auc: 0.0000e+00 - val_loss: -135.8734 - val_accuracy: 0.0000e+00 - val_auc: 0.0000e+00\n",
      "Epoch 20/30\n",
      "18/18 [==============================] - 0s 4ms/step - loss: -147.1517 - accuracy: 0.0000e+00 - auc: 0.0000e+00 - val_loss: -162.3351 - val_accuracy: 0.0000e+00 - val_auc: 0.0000e+00\n",
      "Epoch 21/30\n",
      "18/18 [==============================] - 0s 5ms/step - loss: -168.4149 - accuracy: 0.0000e+00 - auc: 0.0000e+00 - val_loss: -193.9510 - val_accuracy: 0.0000e+00 - val_auc: 0.0000e+00\n",
      "Epoch 22/30\n",
      "18/18 [==============================] - 0s 5ms/step - loss: -204.4253 - accuracy: 0.0000e+00 - auc: 0.0000e+00 - val_loss: -231.5836 - val_accuracy: 0.0000e+00 - val_auc: 0.0000e+00\n",
      "Epoch 23/30\n",
      "18/18 [==============================] - 0s 4ms/step - loss: -230.9795 - accuracy: 0.0000e+00 - auc: 0.0000e+00 - val_loss: -273.6819 - val_accuracy: 0.0000e+00 - val_auc: 0.0000e+00\n",
      "Epoch 24/30\n",
      "18/18 [==============================] - 0s 5ms/step - loss: -290.6012 - accuracy: 0.0000e+00 - auc: 0.0000e+00 - val_loss: -325.7508 - val_accuracy: 0.0000e+00 - val_auc: 0.0000e+00\n",
      "Epoch 25/30\n",
      "18/18 [==============================] - 0s 5ms/step - loss: -353.5936 - accuracy: 0.0000e+00 - auc: 0.0000e+00 - val_loss: -381.4061 - val_accuracy: 0.0000e+00 - val_auc: 0.0000e+00\n",
      "Epoch 26/30\n",
      "18/18 [==============================] - 0s 4ms/step - loss: -405.4785 - accuracy: 0.0000e+00 - auc: 0.0000e+00 - val_loss: -443.3580 - val_accuracy: 0.0000e+00 - val_auc: 0.0000e+00\n",
      "Epoch 27/30\n",
      "18/18 [==============================] - 0s 5ms/step - loss: -471.7109 - accuracy: 0.0000e+00 - auc: 0.0000e+00 - val_loss: -515.0005 - val_accuracy: 0.0000e+00 - val_auc: 0.0000e+00\n",
      "Epoch 28/30\n",
      "18/18 [==============================] - 0s 5ms/step - loss: -562.1867 - accuracy: 0.0000e+00 - auc: 0.0000e+00 - val_loss: -591.1569 - val_accuracy: 0.0000e+00 - val_auc: 0.0000e+00\n",
      "Epoch 29/30\n",
      "18/18 [==============================] - 0s 5ms/step - loss: -634.5707 - accuracy: 0.0000e+00 - auc: 0.0000e+00 - val_loss: -672.3514 - val_accuracy: 0.0000e+00 - val_auc: 0.0000e+00\n",
      "Epoch 30/30\n",
      "18/18 [==============================] - 0s 5ms/step - loss: -715.3675 - accuracy: 0.0000e+00 - auc: 0.0000e+00 - val_loss: -761.2456 - val_accuracy: 0.0000e+00 - val_auc: 0.0000e+00\n"
     ]
    },
    {
     "data": {
      "text/plain": [
       "<tensorflow.python.keras.callbacks.History at 0x2603208bc48>"
      ]
     },
     "execution_count": 10,
     "metadata": {},
     "output_type": "execute_result"
    }
   ],
   "source": [
    "model.fit(x_train, y_train, validation_data = (x_test, y_test), epochs = 30, batch_size = 32)\n"
   ]
  },
  {
   "cell_type": "code",
   "execution_count": 11,
   "metadata": {},
   "outputs": [],
   "source": [
    "warnings.filterwarnings(\"ignore\")\n",
    "y_pred = model.predict_classes(x_test)\n"
   ]
  },
  {
   "cell_type": "code",
   "execution_count": 12,
   "metadata": {},
   "outputs": [
    {
     "name": "stdout",
     "output_type": "stream",
     "text": [
      "              precision    recall  f1-score   support\n",
      "\n",
      "           1       0.00      0.00      0.00       0.0\n",
      "           2       0.00      0.00      0.00      88.0\n",
      "           4       0.00      0.00      0.00      49.0\n",
      "\n",
      "    accuracy                           0.00     137.0\n",
      "   macro avg       0.00      0.00      0.00     137.0\n",
      "weighted avg       0.00      0.00      0.00     137.0\n",
      "\n"
     ]
    }
   ],
   "source": [
    "warnings.filterwarnings(\"ignore\")\n",
    "print(classification_report(y_test, y_pred))\n"
   ]
  },
  {
   "cell_type": "code",
   "execution_count": null,
   "metadata": {},
   "outputs": [],
   "source": []
  }
 ],
 "metadata": {
  "kernelspec": {
   "display_name": "Python 3",
   "language": "python",
   "name": "python3"
  },
  "language_info": {
   "codemirror_mode": {
    "name": "ipython",
    "version": 3
   },
   "file_extension": ".py",
   "mimetype": "text/x-python",
   "name": "python",
   "nbconvert_exporter": "python",
   "pygments_lexer": "ipython3",
   "version": "3.7.6"
  }
 },
 "nbformat": 4,
 "nbformat_minor": 4
}
